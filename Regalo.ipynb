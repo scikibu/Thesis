{
 "cells": [
  {
   "cell_type": "markdown",
   "metadata": {},
   "source": [
    "# FINALMENTE...IL REGALO DI NATALE!  "
   ]
  },
  {
   "cell_type": "markdown",
   "metadata": {},
   "source": [
    " "
   ]
  },
  {
   "cell_type": "markdown",
   "metadata": {},
   "source": [
    "![ ](Regalo.png)"
   ]
  },
  {
   "cell_type": "markdown",
   "metadata": {},
   "source": [
    " "
   ]
  },
  {
   "cell_type": "markdown",
   "metadata": {},
   "source": [
    "Draghiii scusate per il ritardo! A me piacciono tutte, scegliete voi quale preferite!\n",
    "(*Cliccate e aprite i link*)\n",
    "\n",
    "- [Guanti](https://www.decathlon.it/guanti-running-touch-neri-id_8393523.html)\n",
    "- [Fascia multiuso/scaldacollo](https://www.decathlon.it/fascia-multiuso-running-nera-id_8488813.html)\n",
    "- [Fascia testa](https://www.decathlon.it/fascia-invernale-running-nera-id_8342130.html)\n",
    "\n",
    "Ps. Colori scuri, non sgargianti mi raccomando!\n",
    "\n",
    "Grazie mille, non vedo l'ora di riabbracciarvi!"
   ]
  }
 ],
 "metadata": {
  "kernelspec": {
   "display_name": "Python 3",
   "language": "python",
   "name": "python3"
  },
  "language_info": {
   "codemirror_mode": {
    "name": "ipython",
    "version": 3
   },
   "file_extension": ".py",
   "mimetype": "text/x-python",
   "name": "python",
   "nbconvert_exporter": "python",
   "pygments_lexer": "ipython3",
   "version": "3.7.0"
  }
 },
 "nbformat": 4,
 "nbformat_minor": 2
}
